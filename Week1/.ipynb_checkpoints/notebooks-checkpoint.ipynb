{
 "cells": [
  {
   "cell_type": "markdown",
   "id": "d47b1f04",
   "metadata": {},
   "source": [
    "# My first Jupyter Notebook #\n",
    " - Hello World"
   ]
  },
  {
   "cell_type": "code",
   "execution_count": 1,
   "id": "7928920b",
   "metadata": {},
   "outputs": [
    {
     "name": "stdout",
     "output_type": "stream",
     "text": [
      "What is your name? Veronika\n",
      "Welcome to Jupyter Veronika\n"
     ]
    }
   ],
   "source": [
    "# Hello Jupyter\n",
    "name = input(\"What is your name? \")\n",
    "print(\"Welcome to Jupyter \" + name)\n"
   ]
  },
  {
   "cell_type": "code",
   "execution_count": null,
   "id": "aeee2b38",
   "metadata": {},
   "outputs": [],
   "source": []
  }
 ],
 "metadata": {
  "kernelspec": {
   "display_name": "Python 3 (ipykernel)",
   "language": "python",
   "name": "python3"
  },
  "language_info": {
   "codemirror_mode": {
    "name": "ipython",
    "version": 3
   },
   "file_extension": ".py",
   "mimetype": "text/x-python",
   "name": "python",
   "nbconvert_exporter": "python",
   "pygments_lexer": "ipython3",
   "version": "3.9.7"
  }
 },
 "nbformat": 4,
 "nbformat_minor": 5
}
